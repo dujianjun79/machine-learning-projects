{
 "cells": [
  {
   "cell_type": "markdown",
   "metadata": {},
   "source": [
    "# Text Classification with Naive Bayes\n",
    "CS 6375.004 Machine Learning,  Assignment 4\n",
    "\n",
    "Authors: Jianjun  Du, Bo Huang"
   ]
  },
  {
   "cell_type": "code",
   "execution_count": 1,
   "metadata": {},
   "outputs": [],
   "source": [
    "import os\n",
    "import nltk\n",
    "from nltk.tokenize import RegexpTokenizer\n",
    "from nltk.corpus import stopwords\n",
    "from nltk.stem.snowball import SnowballStemmer\n",
    "from itertools import chain\n",
    "import numpy as np\n",
    "import pandas as pd\n",
    "import math\n"
   ]
  },
  {
   "cell_type": "markdown",
   "metadata": {},
   "source": [
    "## data input and preprocess\n",
    "5 categories have been chosen. The letter headers were removed. Only English words were kept, the other non-english tokens were removed. All the words are lower cases. All words were stemmed."
   ]
  },
  {
   "cell_type": "code",
   "execution_count": 2,
   "metadata": {},
   "outputs": [],
   "source": [
    "def databuilding(path):\n",
    "    traindata=[]\n",
    "    for root, dirs, files in os.walk(path):\n",
    "         for file in files:\n",
    "            with open(os.path.join(root, file), \"r\") as auto:\n",
    "                file_content=auto.read()\n",
    "\n",
    "                # set the pattern for the word, only english words are kept\n",
    "                pattern=r'[A-Za-z]+' \n",
    "                tokenizer = RegexpTokenizer(pattern)            \n",
    "                tokens = tokenizer.tokenize(file_content)\n",
    "\n",
    "                # transfer to lower case\n",
    "                tokens=[w.lower() for w in tokens]\n",
    "\n",
    "                # stem the words, so that all the words are in the basic format\n",
    "                porter = nltk.PorterStemmer()\n",
    "                tokens=[porter.stem(t) for t in tokens]\n",
    "\n",
    "                # get rid of stop words\n",
    "                tokens = [word for word in tokens if word not in stopwords.words('english')]\n",
    "\n",
    "                #get rid of header\n",
    "                for i in range(len(tokens)):\n",
    "                    if i<len(tokens) and tokens[i]=='lines':\n",
    "                        tokens=tokens[i+1:]\n",
    "\n",
    "                # label the class the document belongs to\n",
    "                tokens.append(root)\n",
    "                traindata.append(tokens)\n",
    "                \n",
    "    return traindata          "
   ]
  },
  {
   "cell_type": "code",
   "execution_count": 3,
   "metadata": {},
   "outputs": [],
   "source": [
    "traindata=databuilding(\"20news-bydate-train\")\n",
    "\n",
    "# split the data to features and classes\n",
    "X=[]\n",
    "y=[]\n",
    "for data in traindata:\n",
    "    X.append(data[:-1])\n",
    "    y.append(data[-1])\n",
    "\n",
    "# build up features, which are the unique words from all the documents\n",
    "flatterned=list(chain.from_iterable(X))\n",
    "dictionary=set(flatterned)\n",
    "words=list(dictionary)\n",
    "\n",
    "# initialize the dataframe; and all of them initialized as 1, for the smoothing \n",
    "columns=len(words)\n",
    "rows=len(traindata)\n",
    "trainning=np.ones((rows,columns))\n",
    "\n",
    "# finishing the building of dataframe\n",
    "for i in range(len(X)):\n",
    "    for j in range(len(words)):\n",
    "        for word in X[i]:\n",
    "            if word==words[j]:\n",
    "                trainning[i][j] =trainning[i][j]+1"
   ]
  },
  {
   "cell_type": "code",
   "execution_count": 4,
   "metadata": {
    "collapsed": true
   },
   "outputs": [],
   "source": [
    "testdata=databuilding(\"20news-bydate-test\")\n",
    "\n",
    "# split the data to features and classes\n",
    "X_test=[]\n",
    "y_test=[]\n",
    "for data in testdata:\n",
    "    X_test.append(data[:-1])\n",
    "    y_test.append(data[-1])\n",
    "    \n",
    "rows=len(testdata)\n",
    "testing=np.ones((rows,columns))\n",
    "\n",
    "# test dataframe needs to use the same features as the training data, even if they have some different words.\n",
    "for i in range(len(X_test)):\n",
    "    for j in range(len(words)):\n",
    "        for word in X_test[i]:\n",
    "            if word==words[j]:\n",
    "                testing[i][j]=testing[i][j]+1\n"
   ]
  },
  {
   "cell_type": "code",
   "execution_count": 5,
   "metadata": {},
   "outputs": [],
   "source": [
    "# convert the string labels to numbers\n",
    "tmp1=[w.split(\"\\\\\")[1] for w in y]\n",
    "tmp2=[w.split(\"\\\\\")[1] for w in y_test]\n",
    "cmap={'comp.graphics':0, 'rec.autos':1, 'sci.crypt':2, 'sci.space':3, 'soc.religion.christian':4 }\n",
    "y_train=[cmap[word] for word in tmp1]\n",
    "y_test=[cmap[word] for word in tmp2]"
   ]
  },
  {
   "cell_type": "code",
   "execution_count": 6,
   "metadata": {},
   "outputs": [],
   "source": [
    "# conver trainning data table to the check table \n",
    "data_train=pd.DataFrame(trainning)\n",
    "data_train.columns=words\n",
    "data_train['classes']=y_train\n",
    "\n",
    "tmp=data_train.groupby('classes').sum().values\n",
    "total=tmp.sum(axis=1).reshape(-1,1)\n",
    "model=np.divide(tmp,total)"
   ]
  },
  {
   "cell_type": "code",
   "execution_count": 7,
   "metadata": {},
   "outputs": [],
   "source": [
    "# predict the test data\n",
    "\n",
    "tmp=pd.DataFrame(y_train)\n",
    "tmp.columns=['classes']\n",
    "pc=tmp.groupby('classes')['classes'].count().values/tmp.shape[0]\n",
    "\n",
    "p=np.zeros((testing.shape[0],model.shape[0]))\n",
    "\n",
    "for i in range(len(testing)):\n",
    "    for j in range(model.shape[0]):\n",
    "        for k in range(testing.shape[1]):\n",
    "            if testing[i][k]!=1:\n",
    "                p[i][j]=testing[i][k]*math.log(model[j][k])+math.log(pc[j])+p[i][j]"
   ]
  },
  {
   "cell_type": "code",
   "execution_count": 8,
   "metadata": {},
   "outputs": [
    {
     "name": "stdout",
     "output_type": "stream",
     "text": [
      "the accuracy  is: 0.6041561074505829\n"
     ]
    }
   ],
   "source": [
    "predicted=np.argmax(p,axis=1)\n",
    "count=0\n",
    "for i in range(len(predicted)):\n",
    "    if predicted[i]==y_test[i]:\n",
    "        count = count+1\n",
    "\n",
    "accuracy=count/len(y_test)\n",
    "print(\"the accuracy  is: \"+str(accuracy))\n",
    "        "
   ]
  },
  {
   "cell_type": "code",
   "execution_count": null,
   "metadata": {
    "collapsed": true
   },
   "outputs": [],
   "source": []
  }
 ],
 "metadata": {
  "kernelspec": {
   "display_name": "Python 3",
   "language": "python",
   "name": "python3"
  },
  "language_info": {
   "codemirror_mode": {
    "name": "ipython",
    "version": 3
   },
   "file_extension": ".py",
   "mimetype": "text/x-python",
   "name": "python",
   "nbconvert_exporter": "python",
   "pygments_lexer": "ipython3",
   "version": "3.6.1"
  }
 },
 "nbformat": 4,
 "nbformat_minor": 2
}
